{
  "nbformat": 4,
  "nbformat_minor": 0,
  "metadata": {
    "colab": {
      "provenance": []
    },
    "kernelspec": {
      "name": "python3",
      "display_name": "Python 3"
    },
    "language_info": {
      "name": "python"
    },
    "accelerator": "GPU",
    "gpuClass": "standard"
  },
  "cells": [
    {
      "cell_type": "code",
      "source": [
        "from google.colab import drive\n",
        "\n",
        "drive.mount('/content/gdrive',force_remount=True)"
      ],
      "metadata": {
        "id": "uJi6B3a3fTBO",
        "colab": {
          "base_uri": "https://localhost:8080/"
        },
        "outputId": "75b1277a-09f9-437e-dfa9-2fd21086c611"
      },
      "execution_count": 44,
      "outputs": [
        {
          "output_type": "stream",
          "name": "stdout",
          "text": [
            "Mounted at /content/gdrive\n"
          ]
        }
      ]
    },
    {
      "cell_type": "code",
      "source": [
        "%matplotlib inline\n",
        "%config InlineBackend.figure_format = 'retina'\n",
        "import os\n",
        "# import neural_structured_learning as nsl\n",
        "import glob\n",
        "import json\n",
        "import numpy as np\n",
        "\n",
        "import pandas as pd\n",
        "import matplotlib.pyplot as plt\n",
        "import tensorflow as tf\n",
        "import cv2\n",
        "from tensorflow.keras.preprocessing.image import ImageDataGenerator\n",
        "from tensorflow.keras import  applications\n",
        "from tensorflow.keras import Model\n",
        "from tensorflow.keras.models import Sequential\n",
        "from tensorflow.keras.layers import Conv2D, MaxPool2D,GlobalAveragePooling2D, Flatten, Dense, Dropout, BatchNormalization\n",
        "from tensorflow.keras.callbacks import ModelCheckpoint, EarlyStopping, ReduceLROnPlateau\n",
        "from tensorflow.keras.optimizers import Adam\n",
        "from tensorflow.keras.optimizers import SGD\n",
        "from tensorflow.keras import regularizers\n",
        "\n",
        "from keras.models import load_model\n",
        "from sklearn.metrics import confusion_matrix ,classification_report\n",
        "\n",
        "\n",
        "import itertools\n",
        "import os\n",
        "import shutil\n",
        "import random\n",
        "import glob"
      ],
      "metadata": {
        "id": "yYCcRf6jumBp"
      },
      "execution_count": 45,
      "outputs": []
    },
    {
      "cell_type": "code",
      "source": [
        "pip install split-folders"
      ],
      "metadata": {
        "id": "QiPZzmRfgHB7",
        "colab": {
          "base_uri": "https://localhost:8080/"
        },
        "outputId": "2b1d405b-2e7c-473f-cbb7-e967d03f1db3"
      },
      "execution_count": 46,
      "outputs": [
        {
          "output_type": "stream",
          "name": "stdout",
          "text": [
            "Looking in indexes: https://pypi.org/simple, https://us-python.pkg.dev/colab-wheels/public/simple/\n",
            "Requirement already satisfied: split-folders in /usr/local/lib/python3.10/dist-packages (0.5.1)\n"
          ]
        }
      ]
    },
    {
      "cell_type": "code",
      "source": [
        "import splitfolders\n",
        "splitfolders.ratio(\"/content/gdrive/My Drive/output\", output=\"data_minor_1\", ratio=(.6, .2, .2), group_prefix=None, move=False)"
      ],
      "metadata": {
        "id": "CySxujmIgHhn",
        "colab": {
          "base_uri": "https://localhost:8080/"
        },
        "outputId": "e515e461-bf1c-4539-ba5f-9243f17cce96"
      },
      "execution_count": 47,
      "outputs": [
        {
          "output_type": "stream",
          "name": "stderr",
          "text": [
            "Copying files: 3019 files [00:12, 240.54 files/s]\n"
          ]
        }
      ]
    },
    {
      "cell_type": "code",
      "source": [
        "train_path=\"/content/data_minor_1/train\""
      ],
      "metadata": {
        "id": "r8jaBg69gHuz"
      },
      "execution_count": 48,
      "outputs": []
    },
    {
      "cell_type": "code",
      "source": [
        "train_batches=ImageDataGenerator(zoom_range=1.5,rotation_range=90,horizontal_flip=True).flow_from_directory(directory=train_path,target_size= (224,224),batch_size=10,shuffle=True,class_mode='categorical')"
      ],
      "metadata": {
        "id": "Jl9ZRjgqjGgW",
        "colab": {
          "base_uri": "https://localhost:8080/"
        },
        "outputId": "29c8db92-1efe-4d23-c393-297ab869f140"
      },
      "execution_count": 49,
      "outputs": [
        {
          "output_type": "stream",
          "name": "stdout",
          "text": [
            "Found 1810 images belonging to 2 classes.\n"
          ]
        }
      ]
    },
    {
      "cell_type": "code",
      "source": [
        "val_path=\"/content/data_minor_1/val\""
      ],
      "metadata": {
        "id": "Kt1mUjcsjP68"
      },
      "execution_count": 50,
      "outputs": []
    },
    {
      "cell_type": "code",
      "source": [
        "val_batches=ImageDataGenerator(zoom_range=1.5).flow_from_directory(directory=val_path,target_size= (224,224),batch_size=10,shuffle=True,class_mode='categorical')"
      ],
      "metadata": {
        "id": "VyTnjeVZjvyf",
        "colab": {
          "base_uri": "https://localhost:8080/"
        },
        "outputId": "ab631c17-2bb0-422e-bb77-4b10f83a1959"
      },
      "execution_count": 51,
      "outputs": [
        {
          "output_type": "stream",
          "name": "stdout",
          "text": [
            "Found 603 images belonging to 2 classes.\n"
          ]
        }
      ]
    },
    {
      "cell_type": "code",
      "source": [
        "test_path=\"/content/data_minor_1/test\""
      ],
      "metadata": {
        "id": "qKP87OhvjQDr"
      },
      "execution_count": 52,
      "outputs": []
    },
    {
      "cell_type": "code",
      "source": [
        "test_batches=ImageDataGenerator(zoom_range=1.5).flow_from_directory(directory=test_path,target_size= (224,224),batch_size=10,shuffle=True,class_mode='categorical')"
      ],
      "metadata": {
        "id": "0YiX1aTyj6ut",
        "colab": {
          "base_uri": "https://localhost:8080/"
        },
        "outputId": "a569acbe-64bf-4f2b-82a0-3b92cc7358cf"
      },
      "execution_count": 53,
      "outputs": [
        {
          "output_type": "stream",
          "name": "stdout",
          "text": [
            "Found 606 images belonging to 2 classes.\n"
          ]
        }
      ]
    },
    {
      "cell_type": "code",
      "source": [
        "# model = tf.keras.Sequential(\n",
        "#     [\n",
        "#      tf.keras.layers.Rescaling(1./255),\n",
        "#      tf.keras.layers.Conv2D(32, 3, activation=\"relu\"),\n",
        "#      tf.keras.layers.MaxPooling2D(),\n",
        "#      tf.keras.layers.Conv2D(32, 3, activation=\"relu\"),\n",
        "#      tf.keras.layers.MaxPooling2D(),\n",
        "#      tf.keras.layers.Conv2D(32, 3, activation=\"relu\"),\n",
        "#      tf.keras.layers.MaxPooling2D(),\n",
        "#      tf.keras.layers.Flatten(),\n",
        "#      tf.keras.layers.Dense(128, activation=\"relu\"),\n",
        "#      tf.keras.layers.Dense(2)\n",
        "#     ]\n",
        "# )\n"
      ],
      "metadata": {
        "id": "sKiERvTtwRmf"
      },
      "execution_count": 54,
      "outputs": []
    },
    {
      "cell_type": "code",
      "source": [
        "# model.compile(optimizer=Adam(lr=0.001),loss='categorical_crossentropy',metrics=['accuracy'])"
      ],
      "metadata": {
        "id": "_2qTP0hk3OqK"
      },
      "execution_count": 55,
      "outputs": []
    },
    {
      "cell_type": "markdown",
      "source": [],
      "metadata": {
        "id": "l3MQ9vRSkgzb"
      }
    },
    {
      "cell_type": "code",
      "source": [
        "# model.fit(\n",
        "#     train_batches,\n",
        "#     validation_data = val_batches,\n",
        "#     epochs = 50\n",
        "# )"
      ],
      "metadata": {
        "id": "ILi1YyWf3fob"
      },
      "execution_count": 56,
      "outputs": []
    },
    {
      "cell_type": "code",
      "source": [
        "# model.evaluate(test_batches)\n"
      ],
      "metadata": {
        "id": "AJalZYGa3tKG"
      },
      "execution_count": 57,
      "outputs": []
    },
    {
      "cell_type": "code",
      "source": [
        "\n",
        "test_batches.class_indices"
      ],
      "metadata": {
        "id": "bVSQwZ3taJW3",
        "colab": {
          "base_uri": "https://localhost:8080/"
        },
        "outputId": "efb1a125-4e49-4f0c-e2e1-95362b612cb7"
      },
      "execution_count": 58,
      "outputs": [
        {
          "output_type": "execute_result",
          "data": {
            "text/plain": [
              "{'Healthy': 0, 'Unhealthy': 1}"
            ]
          },
          "metadata": {},
          "execution_count": 58
        }
      ]
    },
    {
      "cell_type": "markdown",
      "source": [],
      "metadata": {
        "id": "NbsnejRg1-oV"
      }
    },
    {
      "cell_type": "code",
      "source": [
        "\n",
        "# for images,labels in test_batches:\n",
        "#   classifications=model(images)"
      ],
      "metadata": {
        "id": "67RlOX2CoIIe"
      },
      "execution_count": 59,
      "outputs": []
    },
    {
      "cell_type": "code",
      "source": [
        "# prediction=model.predict(x=test_batches)"
      ],
      "metadata": {
        "id": "vuBJcda5qqB3"
      },
      "execution_count": 60,
      "outputs": []
    },
    {
      "cell_type": "code",
      "source": [
        "# prediction"
      ],
      "metadata": {
        "id": "Y0RP9l6kpexS"
      },
      "execution_count": 61,
      "outputs": []
    },
    {
      "cell_type": "code",
      "source": [
        "# max_indices = np.argmax(prediction, axis=1)\n",
        "\n",
        "# # Print the result\n",
        "# print(max_indices)"
      ],
      "metadata": {
        "id": "U-3Q_RYJmZhp"
      },
      "execution_count": 62,
      "outputs": []
    },
    {
      "cell_type": "code",
      "source": [
        "# score=0\n",
        "# for i in max_indices:\n",
        "#   if i==1:\n",
        "#    score+=-1\n",
        "#   else:\n",
        "#     score+=1\n",
        "# print(score)"
      ],
      "metadata": {
        "id": "3mWceFGkmZkd"
      },
      "execution_count": 63,
      "outputs": []
    },
    {
      "cell_type": "code",
      "source": [],
      "metadata": {
        "id": "cnRf5pFHmZmm"
      },
      "execution_count": 63,
      "outputs": []
    },
    {
      "cell_type": "code",
      "source": [
        "# import numpy\n",
        "\n",
        "# plt.figure(figsize=(10,10))\n",
        "# for images, labels in test_ds.take(1):\n",
        "#   classifications = model(images)\n",
        "#   # print(classifications)\n",
        "  \n",
        "#   for i in range(9):\n",
        "#     ax = plt.subplot(3, 3, i + 1)\n",
        "#     plt.imshow(images[i].numpy().astype(\"uint8\"))\n",
        "#     index = numpy.argmax(classifications[i])\n",
        "#     plt.title(\"Pred: \" + class_names[index] + \" | Real: \" + class_names[labels[i]])"
      ],
      "metadata": {
        "id": "AZXzzvArbrR7"
      },
      "execution_count": 64,
      "outputs": []
    },
    {
      "cell_type": "code",
      "source": [
        "# converter = tf.lite.TFLiteConverter.from_keras_model(model)\n",
        "# tflite_model = converter.convert()\n",
        "\n",
        "# with open(\"model.tflite\", 'wb') as f:\n",
        "#   f.write(tflite_model)"
      ],
      "metadata": {
        "id": "P8ySxVJubs7Q"
      },
      "execution_count": 65,
      "outputs": []
    },
    {
      "cell_type": "code",
      "source": [
        "# import tensorflow as tf\n",
        "# from tensorflow.keras.applications.densenet import DenseNet121\n",
        "# from tensorflow.keras.layers import Dense, Flatten\n",
        "# from tensorflow.keras.models import Model\n",
        "\n",
        "# # Load the pre-trained model\n",
        "# base_model = DenseNet121(weights='imagenet', include_top=False, input_shape=(224, 224, 3))\n",
        "\n",
        "# # Freeze the pre-trained layers\n",
        "# for layer in base_model.layers:\n",
        "#     layer.trainable = False\n",
        "\n",
        "# # Add a new output layer for binary classification\n",
        "# x = base_model.output\n",
        "# x = Flatten()(x)\n",
        "# x = Dense(128, activation='relu')(x)\n",
        "# predictions = Dense(2, activation='softmax')(x)\n",
        "\n",
        "# # Create the new model\n",
        "# model_de = Model(inputs=base_model.input, outputs=predictions)\n",
        "\n",
        "# # Compile the model\n",
        "# model_de.compile(optimizer='adam', loss='binary_crossentropy', metrics=['accuracy'])\n",
        "\n",
        "# # Train the model on your data\n",
        "# model_de.fit(\n",
        "#     train_batches,\n",
        "#     validation_data = val_batches,\n",
        "#     epochs = 30\n",
        "# )\n"
      ],
      "metadata": {
        "id": "THo26r_C030Q"
      },
      "execution_count": 66,
      "outputs": []
    },
    {
      "cell_type": "code",
      "source": [
        "import tensorflow as tf\n",
        "from tensorflow.keras.applications.resnet50 import ResNet50\n",
        "from tensorflow.keras.layers import Dense, Flatten\n",
        "from tensorflow.keras.models import Model\n",
        "\n",
        "# Load the pre-trained model\n",
        "base_model = ResNet50(weights='imagenet', include_top=False, input_shape=(224, 224, 3))\n",
        "\n",
        "# Freeze the pre-trained layers\n",
        "for layer in base_model.layers:\n",
        "    layer.trainable = False\n",
        "\n",
        "# Add a new output layer for classification\n",
        "x = base_model.output\n",
        "x = Flatten()(x)\n",
        "x = Dense(128, activation='relu')(x)\n",
        "predictions = Dense(2, activation='softmax')(x)\n",
        "\n",
        "# Create the new model\n",
        "model_re = Model(inputs=base_model.input, outputs=predictions)\n",
        "\n",
        "# Compile the model\n",
        "model_re.compile(optimizer='adam', loss='categorical_crossentropy', metrics=['accuracy'])\n",
        "\n",
        "# Train the model on your data\n",
        "model_re.fit(\n",
        "    train_batches,\n",
        "    validation_data = val_batches,\n",
        "    epochs = 90\n",
        ")\n"
      ],
      "metadata": {
        "id": "cLUmdm_q9EZL",
        "colab": {
          "base_uri": "https://localhost:8080/"
        },
        "outputId": "c83396c2-ef3b-44cd-c44d-7d411a916970"
      },
      "execution_count": 67,
      "outputs": [
        {
          "output_type": "stream",
          "name": "stdout",
          "text": [
            "Epoch 1/90\n",
            "181/181 [==============================] - 57s 288ms/step - loss: 2.4779 - accuracy: 0.5591 - val_loss: 0.7032 - val_accuracy: 0.5589\n",
            "Epoch 2/90\n",
            "181/181 [==============================] - 51s 283ms/step - loss: 0.6683 - accuracy: 0.5972 - val_loss: 0.6374 - val_accuracy: 0.6219\n",
            "Epoch 3/90\n",
            "181/181 [==============================] - 48s 265ms/step - loss: 0.5934 - accuracy: 0.6663 - val_loss: 0.5322 - val_accuracy: 0.7446\n",
            "Epoch 4/90\n",
            "181/181 [==============================] - 49s 272ms/step - loss: 0.5089 - accuracy: 0.7497 - val_loss: 0.4737 - val_accuracy: 0.7512\n",
            "Epoch 5/90\n",
            "181/181 [==============================] - 57s 316ms/step - loss: 0.4511 - accuracy: 0.7729 - val_loss: 0.4957 - val_accuracy: 0.7546\n",
            "Epoch 6/90\n",
            "181/181 [==============================] - 48s 263ms/step - loss: 0.4166 - accuracy: 0.8033 - val_loss: 0.4961 - val_accuracy: 0.7645\n",
            "Epoch 7/90\n",
            "181/181 [==============================] - 48s 265ms/step - loss: 0.4233 - accuracy: 0.8138 - val_loss: 0.5321 - val_accuracy: 0.7711\n",
            "Epoch 8/90\n",
            "181/181 [==============================] - 59s 329ms/step - loss: 0.3759 - accuracy: 0.8243 - val_loss: 0.3913 - val_accuracy: 0.8093\n",
            "Epoch 9/90\n",
            "181/181 [==============================] - 50s 274ms/step - loss: 0.3475 - accuracy: 0.8442 - val_loss: 0.3997 - val_accuracy: 0.8060\n",
            "Epoch 10/90\n",
            "181/181 [==============================] - 49s 273ms/step - loss: 0.3574 - accuracy: 0.8304 - val_loss: 0.3579 - val_accuracy: 0.8325\n",
            "Epoch 11/90\n",
            "181/181 [==============================] - 52s 284ms/step - loss: 0.3322 - accuracy: 0.8431 - val_loss: 0.4565 - val_accuracy: 0.7977\n",
            "Epoch 12/90\n",
            "181/181 [==============================] - 49s 273ms/step - loss: 0.3309 - accuracy: 0.8470 - val_loss: 0.4199 - val_accuracy: 0.8325\n",
            "Epoch 13/90\n",
            "181/181 [==============================] - 48s 268ms/step - loss: 0.3233 - accuracy: 0.8459 - val_loss: 0.3706 - val_accuracy: 0.8292\n",
            "Epoch 14/90\n",
            "181/181 [==============================] - 58s 318ms/step - loss: 0.3064 - accuracy: 0.8558 - val_loss: 0.4647 - val_accuracy: 0.7894\n",
            "Epoch 15/90\n",
            "181/181 [==============================] - 49s 272ms/step - loss: 0.3070 - accuracy: 0.8624 - val_loss: 0.3319 - val_accuracy: 0.8358\n",
            "Epoch 16/90\n",
            "181/181 [==============================] - 48s 266ms/step - loss: 0.3151 - accuracy: 0.8530 - val_loss: 0.3300 - val_accuracy: 0.8275\n",
            "Epoch 17/90\n",
            "181/181 [==============================] - 59s 328ms/step - loss: 0.2876 - accuracy: 0.8624 - val_loss: 0.2982 - val_accuracy: 0.8673\n",
            "Epoch 18/90\n",
            "181/181 [==============================] - 48s 267ms/step - loss: 0.2773 - accuracy: 0.8773 - val_loss: 0.3491 - val_accuracy: 0.8524\n",
            "Epoch 19/90\n",
            "181/181 [==============================] - 47s 261ms/step - loss: 0.2814 - accuracy: 0.8707 - val_loss: 0.3019 - val_accuracy: 0.8557\n",
            "Epoch 20/90\n",
            "181/181 [==============================] - 49s 270ms/step - loss: 0.2489 - accuracy: 0.8829 - val_loss: 0.3493 - val_accuracy: 0.8491\n",
            "Epoch 21/90\n",
            "181/181 [==============================] - 46s 256ms/step - loss: 0.2708 - accuracy: 0.8796 - val_loss: 0.2770 - val_accuracy: 0.8690\n",
            "Epoch 22/90\n",
            "181/181 [==============================] - 48s 266ms/step - loss: 0.2695 - accuracy: 0.8801 - val_loss: 0.2908 - val_accuracy: 0.8806\n",
            "Epoch 23/90\n",
            "181/181 [==============================] - 57s 316ms/step - loss: 0.2824 - accuracy: 0.8757 - val_loss: 0.3129 - val_accuracy: 0.8624\n",
            "Epoch 24/90\n",
            "181/181 [==============================] - 48s 267ms/step - loss: 0.2512 - accuracy: 0.8917 - val_loss: 0.3168 - val_accuracy: 0.8690\n",
            "Epoch 25/90\n",
            "181/181 [==============================] - 57s 314ms/step - loss: 0.2648 - accuracy: 0.8829 - val_loss: 0.3050 - val_accuracy: 0.8507\n",
            "Epoch 26/90\n",
            "181/181 [==============================] - 57s 314ms/step - loss: 0.2514 - accuracy: 0.8796 - val_loss: 0.3027 - val_accuracy: 0.8756\n",
            "Epoch 27/90\n",
            "181/181 [==============================] - 47s 260ms/step - loss: 0.2472 - accuracy: 0.8934 - val_loss: 0.2498 - val_accuracy: 0.8939\n",
            "Epoch 28/90\n",
            "181/181 [==============================] - 48s 268ms/step - loss: 0.2327 - accuracy: 0.8978 - val_loss: 0.3494 - val_accuracy: 0.8507\n",
            "Epoch 29/90\n",
            "181/181 [==============================] - 48s 267ms/step - loss: 0.2500 - accuracy: 0.8873 - val_loss: 0.3454 - val_accuracy: 0.8640\n",
            "Epoch 30/90\n",
            "181/181 [==============================] - 48s 265ms/step - loss: 0.2078 - accuracy: 0.9006 - val_loss: 0.4077 - val_accuracy: 0.8839\n",
            "Epoch 31/90\n",
            "181/181 [==============================] - 47s 259ms/step - loss: 0.2518 - accuracy: 0.8917 - val_loss: 0.2664 - val_accuracy: 0.8706\n",
            "Epoch 32/90\n",
            "181/181 [==============================] - 49s 270ms/step - loss: 0.2779 - accuracy: 0.8669 - val_loss: 0.2893 - val_accuracy: 0.8657\n",
            "Epoch 33/90\n",
            "181/181 [==============================] - 57s 316ms/step - loss: 0.2345 - accuracy: 0.8961 - val_loss: 0.2633 - val_accuracy: 0.8624\n",
            "Epoch 34/90\n",
            "181/181 [==============================] - 48s 265ms/step - loss: 0.2485 - accuracy: 0.8890 - val_loss: 0.2786 - val_accuracy: 0.8806\n",
            "Epoch 35/90\n",
            "181/181 [==============================] - 49s 273ms/step - loss: 0.2152 - accuracy: 0.9039 - val_loss: 0.2073 - val_accuracy: 0.9005\n",
            "Epoch 36/90\n",
            "181/181 [==============================] - 48s 268ms/step - loss: 0.2127 - accuracy: 0.8956 - val_loss: 0.2215 - val_accuracy: 0.8905\n",
            "Epoch 37/90\n",
            "181/181 [==============================] - 48s 267ms/step - loss: 0.2465 - accuracy: 0.8917 - val_loss: 0.2834 - val_accuracy: 0.8740\n",
            "Epoch 38/90\n",
            "181/181 [==============================] - 48s 267ms/step - loss: 0.2321 - accuracy: 0.8972 - val_loss: 0.2694 - val_accuracy: 0.8939\n",
            "Epoch 39/90\n",
            "181/181 [==============================] - 48s 266ms/step - loss: 0.2161 - accuracy: 0.8989 - val_loss: 0.3032 - val_accuracy: 0.8706\n",
            "Epoch 40/90\n",
            "181/181 [==============================] - 47s 259ms/step - loss: 0.2290 - accuracy: 0.8989 - val_loss: 0.2573 - val_accuracy: 0.8773\n",
            "Epoch 41/90\n",
            "181/181 [==============================] - 50s 274ms/step - loss: 0.2214 - accuracy: 0.9105 - val_loss: 0.2744 - val_accuracy: 0.8839\n",
            "Epoch 42/90\n",
            "181/181 [==============================] - 49s 268ms/step - loss: 0.2263 - accuracy: 0.9061 - val_loss: 0.2638 - val_accuracy: 0.8789\n",
            "Epoch 43/90\n",
            "181/181 [==============================] - 48s 264ms/step - loss: 0.2203 - accuracy: 0.8989 - val_loss: 0.2855 - val_accuracy: 0.8640\n",
            "Epoch 44/90\n",
            "181/181 [==============================] - 49s 273ms/step - loss: 0.2084 - accuracy: 0.9116 - val_loss: 0.2529 - val_accuracy: 0.8789\n",
            "Epoch 45/90\n",
            "181/181 [==============================] - 48s 268ms/step - loss: 0.2038 - accuracy: 0.9122 - val_loss: 0.2721 - val_accuracy: 0.8690\n",
            "Epoch 46/90\n",
            "181/181 [==============================] - 58s 322ms/step - loss: 0.2015 - accuracy: 0.9149 - val_loss: 0.2270 - val_accuracy: 0.9055\n",
            "Epoch 47/90\n",
            "181/181 [==============================] - 50s 275ms/step - loss: 0.2191 - accuracy: 0.9044 - val_loss: 0.2184 - val_accuracy: 0.8988\n",
            "Epoch 48/90\n",
            "181/181 [==============================] - 50s 276ms/step - loss: 0.1969 - accuracy: 0.9182 - val_loss: 0.2720 - val_accuracy: 0.8806\n",
            "Epoch 49/90\n",
            "181/181 [==============================] - 48s 265ms/step - loss: 0.2194 - accuracy: 0.9066 - val_loss: 0.2789 - val_accuracy: 0.8789\n",
            "Epoch 50/90\n",
            "181/181 [==============================] - 50s 275ms/step - loss: 0.2095 - accuracy: 0.9122 - val_loss: 0.2006 - val_accuracy: 0.9121\n",
            "Epoch 51/90\n",
            "181/181 [==============================] - 48s 267ms/step - loss: 0.2288 - accuracy: 0.9033 - val_loss: 0.2236 - val_accuracy: 0.9005\n",
            "Epoch 52/90\n",
            "181/181 [==============================] - 48s 265ms/step - loss: 0.2309 - accuracy: 0.9011 - val_loss: 0.2300 - val_accuracy: 0.8988\n",
            "Epoch 53/90\n",
            "181/181 [==============================] - 57s 314ms/step - loss: 0.2207 - accuracy: 0.8972 - val_loss: 0.2292 - val_accuracy: 0.8905\n",
            "Epoch 54/90\n",
            "181/181 [==============================] - 48s 267ms/step - loss: 0.2160 - accuracy: 0.9039 - val_loss: 0.2428 - val_accuracy: 0.8839\n",
            "Epoch 55/90\n",
            "181/181 [==============================] - 48s 266ms/step - loss: 0.2366 - accuracy: 0.8818 - val_loss: 0.2503 - val_accuracy: 0.8856\n",
            "Epoch 56/90\n",
            "181/181 [==============================] - 48s 267ms/step - loss: 0.1891 - accuracy: 0.9122 - val_loss: 0.2484 - val_accuracy: 0.8939\n",
            "Epoch 57/90\n",
            "181/181 [==============================] - 47s 258ms/step - loss: 0.2023 - accuracy: 0.9099 - val_loss: 0.2178 - val_accuracy: 0.8939\n",
            "Epoch 58/90\n",
            "181/181 [==============================] - 49s 273ms/step - loss: 0.2017 - accuracy: 0.9088 - val_loss: 0.2087 - val_accuracy: 0.9038\n",
            "Epoch 59/90\n",
            "181/181 [==============================] - 47s 258ms/step - loss: 0.1994 - accuracy: 0.9099 - val_loss: 0.3184 - val_accuracy: 0.8441\n",
            "Epoch 60/90\n",
            "181/181 [==============================] - 48s 263ms/step - loss: 0.2048 - accuracy: 0.9099 - val_loss: 0.2577 - val_accuracy: 0.8690\n",
            "Epoch 61/90\n",
            "181/181 [==============================] - 47s 259ms/step - loss: 0.1996 - accuracy: 0.9144 - val_loss: 0.2300 - val_accuracy: 0.8955\n",
            "Epoch 62/90\n",
            "181/181 [==============================] - 48s 264ms/step - loss: 0.2050 - accuracy: 0.9116 - val_loss: 0.2232 - val_accuracy: 0.9088\n",
            "Epoch 63/90\n",
            "181/181 [==============================] - 48s 265ms/step - loss: 0.2447 - accuracy: 0.9028 - val_loss: 0.2331 - val_accuracy: 0.8922\n",
            "Epoch 64/90\n",
            "181/181 [==============================] - 48s 264ms/step - loss: 0.2096 - accuracy: 0.9133 - val_loss: 0.2085 - val_accuracy: 0.9088\n",
            "Epoch 65/90\n",
            "181/181 [==============================] - 57s 314ms/step - loss: 0.2358 - accuracy: 0.9083 - val_loss: 0.2904 - val_accuracy: 0.8690\n",
            "Epoch 66/90\n",
            "181/181 [==============================] - 49s 272ms/step - loss: 0.1988 - accuracy: 0.9138 - val_loss: 0.2937 - val_accuracy: 0.8806\n",
            "Epoch 67/90\n",
            "181/181 [==============================] - 47s 258ms/step - loss: 0.1975 - accuracy: 0.9177 - val_loss: 0.3592 - val_accuracy: 0.8657\n",
            "Epoch 68/90\n",
            "181/181 [==============================] - 49s 273ms/step - loss: 0.2019 - accuracy: 0.9028 - val_loss: 0.3387 - val_accuracy: 0.8690\n",
            "Epoch 69/90\n",
            "181/181 [==============================] - 56s 312ms/step - loss: 0.2126 - accuracy: 0.9033 - val_loss: 0.2517 - val_accuracy: 0.8806\n",
            "Epoch 70/90\n",
            "181/181 [==============================] - 48s 265ms/step - loss: 0.2054 - accuracy: 0.8978 - val_loss: 0.2212 - val_accuracy: 0.9071\n",
            "Epoch 71/90\n",
            "181/181 [==============================] - 49s 273ms/step - loss: 0.1846 - accuracy: 0.9099 - val_loss: 0.2041 - val_accuracy: 0.9055\n",
            "Epoch 72/90\n",
            "181/181 [==============================] - 48s 265ms/step - loss: 0.1949 - accuracy: 0.9116 - val_loss: 0.2824 - val_accuracy: 0.8872\n",
            "Epoch 73/90\n",
            "181/181 [==============================] - 48s 266ms/step - loss: 0.1887 - accuracy: 0.9182 - val_loss: 0.3047 - val_accuracy: 0.8806\n",
            "Epoch 74/90\n",
            "181/181 [==============================] - 49s 271ms/step - loss: 0.1709 - accuracy: 0.9271 - val_loss: 0.2213 - val_accuracy: 0.9022\n",
            "Epoch 75/90\n",
            "181/181 [==============================] - 56s 312ms/step - loss: 0.1991 - accuracy: 0.9210 - val_loss: 0.2228 - val_accuracy: 0.8939\n",
            "Epoch 76/90\n",
            "181/181 [==============================] - 49s 270ms/step - loss: 0.1860 - accuracy: 0.9188 - val_loss: 0.2468 - val_accuracy: 0.8856\n",
            "Epoch 77/90\n",
            "181/181 [==============================] - 48s 265ms/step - loss: 0.1773 - accuracy: 0.9177 - val_loss: 0.2880 - val_accuracy: 0.8905\n",
            "Epoch 78/90\n",
            "181/181 [==============================] - 47s 258ms/step - loss: 0.1747 - accuracy: 0.9315 - val_loss: 0.2424 - val_accuracy: 0.8922\n",
            "Epoch 79/90\n",
            "181/181 [==============================] - 48s 265ms/step - loss: 0.1838 - accuracy: 0.9249 - val_loss: 0.1949 - val_accuracy: 0.9104\n",
            "Epoch 80/90\n",
            "181/181 [==============================] - 48s 268ms/step - loss: 0.1897 - accuracy: 0.9182 - val_loss: 0.4518 - val_accuracy: 0.8507\n",
            "Epoch 81/90\n",
            "181/181 [==============================] - 48s 266ms/step - loss: 0.1873 - accuracy: 0.9133 - val_loss: 0.2096 - val_accuracy: 0.9071\n",
            "Epoch 82/90\n",
            "181/181 [==============================] - 48s 266ms/step - loss: 0.1662 - accuracy: 0.9249 - val_loss: 0.2510 - val_accuracy: 0.9154\n",
            "Epoch 83/90\n",
            "181/181 [==============================] - 48s 265ms/step - loss: 0.1851 - accuracy: 0.9238 - val_loss: 0.2152 - val_accuracy: 0.9022\n",
            "Epoch 84/90\n",
            "181/181 [==============================] - 48s 266ms/step - loss: 0.1651 - accuracy: 0.9282 - val_loss: 0.2360 - val_accuracy: 0.9022\n",
            "Epoch 85/90\n",
            "181/181 [==============================] - 47s 257ms/step - loss: 0.1975 - accuracy: 0.9110 - val_loss: 0.2657 - val_accuracy: 0.8905\n",
            "Epoch 86/90\n",
            "181/181 [==============================] - 49s 274ms/step - loss: 0.1866 - accuracy: 0.9138 - val_loss: 0.2319 - val_accuracy: 0.9005\n",
            "Epoch 87/90\n",
            "181/181 [==============================] - 47s 261ms/step - loss: 0.1879 - accuracy: 0.9249 - val_loss: 0.2824 - val_accuracy: 0.8773\n",
            "Epoch 88/90\n",
            "181/181 [==============================] - 48s 265ms/step - loss: 0.2036 - accuracy: 0.9149 - val_loss: 0.2099 - val_accuracy: 0.8922\n",
            "Epoch 89/90\n",
            "181/181 [==============================] - 48s 266ms/step - loss: 0.1516 - accuracy: 0.9287 - val_loss: 0.2632 - val_accuracy: 0.8740\n",
            "Epoch 90/90\n",
            "181/181 [==============================] - 48s 265ms/step - loss: 0.1839 - accuracy: 0.9199 - val_loss: 0.2496 - val_accuracy: 0.8740\n"
          ]
        },
        {
          "output_type": "execute_result",
          "data": {
            "text/plain": [
              "<keras.callbacks.History at 0x7f86f8120460>"
            ]
          },
          "metadata": {},
          "execution_count": 67
        }
      ]
    },
    {
      "cell_type": "code",
      "source": [
        "model_re.evaluate(test_batches)"
      ],
      "metadata": {
        "id": "4-Mv_E7ZJLGs",
        "colab": {
          "base_uri": "https://localhost:8080/"
        },
        "outputId": "094669dd-ad8e-48d6-f3da-4766a7db1b89"
      },
      "execution_count": 68,
      "outputs": [
        {
          "output_type": "stream",
          "name": "stdout",
          "text": [
            "61/61 [==============================] - 12s 193ms/step - loss: 0.2590 - accuracy: 0.8812\n"
          ]
        },
        {
          "output_type": "execute_result",
          "data": {
            "text/plain": [
              "[0.2589782774448395, 0.8811880946159363]"
            ]
          },
          "metadata": {},
          "execution_count": 68
        }
      ]
    },
    {
      "cell_type": "code",
      "source": [
        "prediction=model_re.predict(x=test_batches)"
      ],
      "metadata": {
        "id": "6ufcwgK1MHHM"
      },
      "execution_count": null,
      "outputs": []
    },
    {
      "cell_type": "code",
      "source": [
        "prediction"
      ],
      "metadata": {
        "id": "KwuDXxzpMHHQ",
        "colab": {
          "base_uri": "https://localhost:8080/"
        },
        "outputId": "29589167-6a20-4b8a-9fd8-b03c0bef2dba"
      },
      "execution_count": 70,
      "outputs": [
        {
          "output_type": "execute_result",
          "data": {
            "text/plain": [
              "array([[1.0000000e+00, 1.7622122e-08],\n",
              "       [9.9970645e-01, 2.9350852e-04],\n",
              "       [6.5420687e-02, 9.3457931e-01],\n",
              "       ...,\n",
              "       [2.4056494e-01, 7.5943506e-01],\n",
              "       [6.7565101e-01, 3.2434896e-01],\n",
              "       [4.8993030e-01, 5.1006973e-01]], dtype=float32)"
            ]
          },
          "metadata": {},
          "execution_count": 70
        }
      ]
    },
    {
      "cell_type": "code",
      "source": [
        "max_indices = np.argmax(prediction, axis=1)\n",
        "\n",
        "# Print the result\n",
        "print(max_indices)"
      ],
      "metadata": {
        "id": "fS-84cXYMHHS"
      },
      "execution_count": null,
      "outputs": []
    },
    {
      "cell_type": "code",
      "source": [
        "score=0\n",
        "for i in max_indices:\n",
        "  if i==1:\n",
        "   score+=-1\n",
        "  else:\n",
        "    score+=1\n",
        "print(score)"
      ],
      "metadata": {
        "id": "Y8tI_f-TMHHV",
        "colab": {
          "base_uri": "https://localhost:8080/"
        },
        "outputId": "0740f8f4-c368-4c55-c000-3d55f945491b"
      },
      "execution_count": 72,
      "outputs": [
        {
          "output_type": "stream",
          "name": "stdout",
          "text": [
            "92\n"
          ]
        }
      ]
    },
    {
      "cell_type": "markdown",
      "source": [
        "# **Deploy**"
      ],
      "metadata": {
        "id": "PvxS03tOOaXm"
      }
    },
    {
      "cell_type": "code",
      "source": [
        "tf.keras.models.save_model(model_re,'my_model3.hdf5')"
      ],
      "metadata": {
        "id": "wRkMRal_lRO_"
      },
      "execution_count": 73,
      "outputs": []
    },
    {
      "cell_type": "code",
      "source": [
        "# !pip install streamlit"
      ],
      "metadata": {
        "id": "09IJdukNMLU-"
      },
      "execution_count": 74,
      "outputs": []
    },
    {
      "cell_type": "code",
      "source": [
        "# %%writefile app.py\n",
        "# import streamlit as st\n",
        "# st.write('# Hello World')\n",
        "# st.write('## Run Streamlit on Colab without `ngrok` using `localtunnel`')"
      ],
      "metadata": {
        "id": "pTtw2HLaU1I4"
      },
      "execution_count": 75,
      "outputs": []
    },
    {
      "cell_type": "code",
      "source": [
        "# !streamlit run app.py & npx localtunnel --port 8501"
      ],
      "metadata": {
        "id": "tQzDG-5gU1RR"
      },
      "execution_count": 76,
      "outputs": []
    },
    {
      "cell_type": "code",
      "source": [
        "# # Import necessary libraries\n",
        "# import streamlit as st\n",
        "# import tensorflow as tf\n",
        "# from PIL import Image\n",
        "# import numpy as np\n",
        "\n",
        "# # Load the pre-trained model\n",
        "# model = tf.keras.models.load_model('/content/my_model2.hdf5')\n",
        "\n",
        "# # Define the Streamlit app\n",
        "# def app():\n",
        "#     st.title('My Image Classification App')\n",
        "#     # Define the user input\n",
        "#     uploaded_file = st.file_uploader(\"Choose an image...\", type=\"jpg\")\n",
        "#     if uploaded_file is not None:\n",
        "#         # Load the image\n",
        "#         image = Image.open(uploaded_file)\n",
        "#         # Resize the image to the input size of the model\n",
        "#         image = image.resize((224, 224))\n",
        "#         # Convert the image to a numpy array\n",
        "#         image_array = np.array(image)\n",
        "#         # Preprocess the image\n",
        "#         image_array = image_array / 255.0\n",
        "#         image_array = np.expand_dims(image_array, axis=0)\n",
        "#         # Make a prediction using the deep learning model\n",
        "#         prediction = model.predict(image_array)\n",
        "#         # Display the prediction\n",
        "#         st.write('Prediction:', prediction)\n",
        "\n",
        "# # Run the Streamlit app\n",
        "# if __name__ == '__main__':\n",
        "#     app()\n"
      ],
      "metadata": {
        "id": "w1SVDLDlX-GX"
      },
      "execution_count": 77,
      "outputs": []
    },
    {
      "cell_type": "code",
      "source": [],
      "metadata": {
        "id": "Smjeo6MyWDlw"
      },
      "execution_count": 77,
      "outputs": []
    }
  ]
}